{
  "cells": [
    {
      "metadata": {
        "trusted": false
      },
      "cell_type": "code",
      "source": "import pandas as pd\nfrom sklearn.svm import SVC\nfrom sklearn.feature_extraction.text import TfidfVectorizer\nfrom nltk.stem import WordNetLemmatizer \nfrom sklearn.metrics import accuracy_score\n\n",
      "execution_count": 22,
      "outputs": []
    },
    {
      "metadata": {},
      "cell_type": "markdown",
      "source": "## Read the data\n\nLoading data into dataframe from 'citation_sentiment_corpus.txt'"
    },
    {
      "metadata": {
        "trusted": false
      },
      "cell_type": "code",
      "source": "data = pd.read_csv('citation_sentiment_corpus.txt', sep=\"\\t\", header=None)\ndata.columns = [\"Source_Paper_ID\", \"Target_Paper_ID\", \"Sentiment\", \"Citation_Text\"]\ndata.tail()",
      "execution_count": 23,
      "outputs": [
        {
          "data": {
            "text/html": "<div>\n<style scoped>\n    .dataframe tbody tr th:only-of-type {\n        vertical-align: middle;\n    }\n\n    .dataframe tbody tr th {\n        vertical-align: top;\n    }\n\n    .dataframe thead th {\n        text-align: right;\n    }\n</style>\n<table border=\"1\" class=\"dataframe\">\n  <thead>\n    <tr style=\"text-align: right;\">\n      <th></th>\n      <th>Source_Paper_ID</th>\n      <th>Target_Paper_ID</th>\n      <th>Sentiment</th>\n      <th>Citation_Text</th>\n    </tr>\n  </thead>\n  <tbody>\n    <tr>\n      <th>8731</th>\n      <td>W98-1118</td>\n      <td>W96-0213</td>\n      <td>p</td>\n      <td>He has achieved state-of-the art results by ap...</td>\n    </tr>\n    <tr>\n      <th>8732</th>\n      <td>W99-0606</td>\n      <td>W96-0213</td>\n      <td>o</td>\n      <td>B = (Brill and Wu, 1998); M = (Magerman, 1995)...</td>\n    </tr>\n    <tr>\n      <th>8733</th>\n      <td>W99-0607</td>\n      <td>W96-0213</td>\n      <td>o</td>\n      <td>The model we use is similar to that of (Ratnap...</td>\n    </tr>\n    <tr>\n      <th>8734</th>\n      <td>W99-0607</td>\n      <td>W96-0213</td>\n      <td>p</td>\n      <td>Our model exploits the same kind of tag-n-gram...</td>\n    </tr>\n    <tr>\n      <th>8735</th>\n      <td>W99-0608</td>\n      <td>W96-0213</td>\n      <td>o</td>\n      <td>In that table, TBL stands for Brill's transfor...</td>\n    </tr>\n  </tbody>\n</table>\n</div>",
            "text/plain": "     Source_Paper_ID Target_Paper_ID Sentiment  \\\n8731        W98-1118        W96-0213         p   \n8732        W99-0606        W96-0213         o   \n8733        W99-0607        W96-0213         o   \n8734        W99-0607        W96-0213         p   \n8735        W99-0608        W96-0213         o   \n\n                                          Citation_Text  \n8731  He has achieved state-of-the art results by ap...  \n8732  B = (Brill and Wu, 1998); M = (Magerman, 1995)...  \n8733  The model we use is similar to that of (Ratnap...  \n8734  Our model exploits the same kind of tag-n-gram...  \n8735  In that table, TBL stands for Brill's transfor...  "
          },
          "execution_count": 23,
          "metadata": {},
          "output_type": "execute_result"
        }
      ]
    },
    {
      "metadata": {},
      "cell_type": "markdown",
      "source": "### Removing duplicate data"
    },
    {
      "metadata": {
        "trusted": false
      },
      "cell_type": "code",
      "source": "print (\"Original:\", data.shape)\ndata = data.drop_duplicates()\ndata = data.reset_index(drop=True)\nprint (\"Drop Dupicates:\", data.shape)",
      "execution_count": 24,
      "outputs": [
        {
          "name": "stdout",
          "output_type": "stream",
          "text": "Original: (8736, 4)\nDrop Dupicates: (8734, 4)\n"
        }
      ]
    },
    {
      "metadata": {},
      "cell_type": "markdown",
      "source": "### Adding lemmatized citation text to data frame"
    },
    {
      "metadata": {
        "trusted": false
      },
      "cell_type": "code",
      "source": "lemmatizer = WordNetLemmatizer() \ndef lemmatize(cite_text):\n    result = []\n    for text in cite_text.values:\n        \n        #Lowercasing before negation\n        lower_case = text.lower()\n        #Lemmatization\n        lemm = lemmatizer.lemmatize(lower_case)\n        result.append(lemm)\n        \n    return result\n\ndata['lemmatized_text']= lemmatize(data['Citation_Text'])\n",
      "execution_count": 25,
      "outputs": []
    },
    {
      "metadata": {},
      "cell_type": "markdown",
      "source": "# Word2Vec"
    },
    {
      "metadata": {
        "trusted": true
      },
      "cell_type": "code",
      "source": "# Create average word vectors\n# Average all of the word vectors in a given citation sentence\n\n#Load the data as tokens as we split each string of citation text\nsentences = [_text.split() for _text in data['Citation_Text']]\n# Set values for various parameters\nnum_features = 500    # Word vector dimensionality\nmin_word_count = 10   # Minimum word count\ncontext = 3          # Context window size\ndownsampling = 1e-3   # Downsample setting for frequent words \n# Initialize and train the model\nmodel = Word2Vec(size=num_features,min_count = min_word_count,\n                 window = context,sample = downsampling, seed=1, workers=8)\nmodel.build_vocab(sentences)\n\n# save the model for later using Word2Vec.load()\nmodel_name = \"citation_word2vec\"\nmodel.save(model_name)",
      "execution_count": null,
      "outputs": []
    },
    {
      "metadata": {
        "trusted": true
      },
      "cell_type": "code",
      "source": "# words is a list that contains words in the model's vocabulary#\nwords = model.wv.vocab.keys()\nvocab_size = len(words)\nprint(\"Vocab size\", vocab_size)",
      "execution_count": null,
      "outputs": []
    },
    {
      "metadata": {
        "trusted": true
      },
      "cell_type": "code",
      "source": "model.train(sentences, total_examples=len(sentences), epochs=32)",
      "execution_count": null,
      "outputs": []
    },
    {
      "metadata": {
        "trusted": true
      },
      "cell_type": "code",
      "source": "model.most_similar(\"observe\")",
      "execution_count": null,
      "outputs": []
    },
    {
      "metadata": {
        "trusted": true
      },
      "cell_type": "code",
      "source": "def makeFeatureVec(sentence, model, num_features):\n# Function to average all of the word vectors in a given sentence\n    featureVec = np.zeros((num_features,),dtype=\"float32\")\n    words = set(model.wv.index2word)\n    nwords=0\n# Loop over each word in the review and, if it is in the model's\n    # vocaublary, add its feature vector to the total\n    for word,i in sentence:\n        if word in words:\n            nwords = nwords + 1\n            featureVec = np.add(featureVec,model[word])\n# Divide the result by the number of words to get the average\n    featureVec = np.divide(featureVec,nwords)\n    return featureVec",
      "execution_count": null,
      "outputs": []
    },
    {
      "metadata": {
        "trusted": true
      },
      "cell_type": "code",
      "source": "def getAvgFeatureVecs(sentence, model, num_features):\n# Given the citation sentences, calculating the average feature vector\n    # Initialize\n    counter = 0\n    FeatureVecs = np.zeros((len(sentences),num_features), dtype=\"float32\")\n    for sentence in sentences:\n        if counter%100 == 0:\n            print(\"Review %d of %d\"%(counter,len(sentences)))\n        FeatureVecs[counter] = makeFeatureVec(sentence, model ,num_features)\n        counter = counter + 1\n    return FeatureVecs",
      "execution_count": null,
      "outputs": []
    },
    {
      "metadata": {
        "trusted": true
      },
      "cell_type": "code",
      "source": "# Calculating average feature vector for training set\ntrainDataVecs = getAvgFeatureVecs(sentences, model, num_features)",
      "execution_count": null,
      "outputs": []
    },
    {
      "metadata": {},
      "cell_type": "markdown",
      "source": "# Lexicons"
    },
    {
      "metadata": {
        "trusted": true
      },
      "cell_type": "code",
      "source": "polar_data = pd.read_csv('polar_phrases.txt', sep=\"\\t\", header=None)\npolar_data.columns = [\"Phrase\", \"Polarity\"]\npolar_data.tail()\nphrase_len = len(polar_data['Phrase'])",
      "execution_count": null,
      "outputs": []
    },
    {
      "metadata": {
        "trusted": true
      },
      "cell_type": "code",
      "source": "counter = 0\nLexiconFeatures = np.zeros(len(sentences), dtype=\"float32\")\nfor sentence in sentences:\n    for word in sentence:\n        score = 0\n        for i in range(phrase_len):\n            if word==polar_data['Phrase'][i]:\n                score = score+ polar_data['Polarity'][i]\n    LexiconFeatures[counter] = score\n    print(LexiconFeatures[counter])\n    counter = counter + 1",
      "execution_count": null,
      "outputs": []
    },
    {
      "metadata": {
        "trusted": true
      },
      "cell_type": "code",
      "source": "data['lexicon_count'] = LexiconFeatures",
      "execution_count": null,
      "outputs": []
    },
    {
      "metadata": {},
      "cell_type": "markdown",
      "source": "### Train and test split on citation text"
    },
    {
      "metadata": {
        "trusted": false
      },
      "cell_type": "code",
      "source": "corpus = data['Citation_Text']\nnum_training = 7000\ntrain_X = corpus[:num_training]\ntest_X = corpus[num_training:]\ntrain_Y = data['Sentiment'][:num_training]\ntest_Y=data['Sentiment'][num_training:]",
      "execution_count": 26,
      "outputs": []
    },
    {
      "metadata": {
        "trusted": false
      },
      "cell_type": "code",
      "source": "vectorizer = TfidfVectorizer(ngram_range=(1,3) ,min_df=1, use_idf=True, smooth_idf=True)\n\n# Vectorize the training data\nX_train = vectorizer.fit_transform(train_X)\n# Vectorize the test data\nX_test = vectorizer.transform(test_X)\nsvm_C = 1000\n\n# Train the SVM, optimized by Stochastic Gradient Descent \nclf = SVC(probability=True, verbose=False, class_weight=None, kernel=\"rbf\")\n\nclf.fit(X_train, train_Y) \n\n# Make predictions\npred = clf.predict(X_test)\n",
      "execution_count": 27,
      "outputs": []
    },
    {
      "metadata": {
        "trusted": false
      },
      "cell_type": "code",
      "source": "print (accuracy_score(Y_test, pred))\n",
      "execution_count": 28,
      "outputs": [
        {
          "name": "stdout",
          "output_type": "stream",
          "text": "0.8592848904267589\n"
        }
      ]
    },
    {
      "metadata": {
        "trusted": false
      },
      "cell_type": "code",
      "source": "from sklearn import metrics\n\nmatrix = metrics.confusion_matrix(Y_test, pred)",
      "execution_count": 17,
      "outputs": []
    },
    {
      "metadata": {
        "trusted": false
      },
      "cell_type": "code",
      "source": "import numpy as np\n\n\ndef plot_confusion_matrix(cm,\n                          target_names,\n                          title='Confusion matrix',\n                          cmap=None,\n                          normalize=True):\n\n    import matplotlib.pyplot as plt\n    import numpy as np\n    import itertools\n    accuracy = np.trace(cm) / np.sum(cm).astype('float')\n    misclass = 1 - accuracy\n\n    if cmap is None:\n        cmap = plt.get_cmap('Blues')\n\n    plt.figure(figsize=(8, 6))\n    plt.imshow(cm, interpolation='nearest', cmap=cmap)\n    plt.title(title)\n    plt.colorbar()\n\n    if target_names is not None:\n        tick_marks = np.arange(len(target_names))\n        plt.xticks(tick_marks, target_names, rotation=45)\n        plt.yticks(tick_marks, target_names)\n\n    if normalize:\n        cm = cm.astype('float') / cm.sum(axis=1)[:, np.newaxis]\n\n\n    thresh = cm.max() / 1.5 if normalize else cm.max() / 2\n    for i, j in itertools.product(range(cm.shape[0]), range(cm.shape[1])):\n        if normalize:\n            plt.text(j, i, \"{:0.4f}\".format(cm[i, j]),\n                     horizontalalignment=\"center\",\n                     color=\"white\" if cm[i, j] > thresh else \"black\")\n        else:\n            plt.text(j, i, \"{:,}\".format(cm[i, j]),\n                     horizontalalignment=\"center\",\n                     color=\"white\" if cm[i, j] > thresh else \"black\")\n\n\n    plt.tight_layout()\n    plt.ylabel('True label')\n    plt.xlabel('Predicted label\\naccuracy={:0.4f}; misclass={:0.4f}'.format(accuracy, misclass))\n    plt.show()",
      "execution_count": 18,
      "outputs": []
    },
    {
      "metadata": {
        "trusted": false
      },
      "cell_type": "code",
      "source": "target_names = [\"Negative(n)\", \"Neutral(o)\", \"Positive(p)\"]\nplot_confusion_matrix(matrix,\n                          target_names,\n                          title='Confusion matrix for tfidf',\n                          cmap=None,\n                          normalize=True)",
      "execution_count": 19,
      "outputs": [
        {
          "data": {
            "image/png": "[encoded data removed]",
            "text/plain": "<Figure size 576x432 with 2 Axes>"
          },
          "metadata": {
            "needs_background": "light"
          },
          "output_type": "display_data"
        }
      ]
    },
    {
      "metadata": {
        "trusted": false
      },
      "cell_type": "code",
      "source": "",
      "execution_count": null,
      "outputs": []
    }
  ],
  "metadata": {
    "kernelspec": {
      "name": "python3",
      "display_name": "Python 3",
      "language": "python"
    },
    "language_info": {
      "mimetype": "text/x-python",
      "nbconvert_exporter": "python",
      "name": "python",
      "pygments_lexer": "ipython3",
      "version": "3.5.4",
      "file_extension": ".py",
      "codemirror_mode": {
        "version": 3,
        "name": "ipython"
      }
    }
  },
  "nbformat": 4,
  "nbformat_minor": 4
}